{
 "cells": [
  {
   "cell_type": "markdown",
   "id": "472a8313-0eab-4429-8f99-f68a1b89d6aa",
   "metadata": {},
   "source": [
    "# cloud access cheatsheet\n",
    "\n",
    "### When to use different services for getting data: \n",
    "\n",
    "1. opendap: \n",
    "* if you know exactly which data you need to access from the cloud (e.g., variables, dimensionality and how to slice it)\n",
    "\n",
    "\n",
    "2. harmony:\n",
    "* if higher-level pre-processing is needed (e.g., like L2 subsetting, reformatting swath data, render a projected grid)\n",
    "* Harmony is good for:\n",
    "    * reformatting (e.g., netcdf to geotiff, png or zarr)\n",
    "    * spatial subsetting (L2) - Harmony is better than opendap fpr L2 subsetting\n",
    "    * temporal subsetting - Harmony will accept requests to subset a datafile if it has a time axis\n",
    "    * re-gridding/transforming L3 and above\n",
    "\n",
    "3. download entire files over HTTPS or S3\n",
    "* other cases\n",
    "\n",
    "\n",
    "\n",
    "### Discovering data: \n",
    "\n",
    "1. Earthdata search\n",
    "* can do most everything with this\n",
    "* use ??? and * wildcards in the \"granule_ID(s)\" search box\n",
    "* after finding granules, use \"download all\"\n",
    "\n",
    "\n",
    "2. CMR\n",
    "* good for getting lists of files\n",
    "* this can also be done in a browser, e.g. https://cmr.earthdata.nasa.gov/search/granules.csv?ShortName=SWOT_SIMULATED_L2_KARIN_SSH_GLORYS_SCIENCE_V1&page_size=2000\n",
    "\n",
    "\n",
    "3. CMR-STAC\n",
    "* ?\n",
    "\n",
    "\n",
    "Other libraries, when to use them?\n",
    "- rioxarry\n",
    "- rasterio and boto3\n",
    "\n",
    "\n",
    "\n"
   ]
  }
 ],
 "metadata": {
  "kernelspec": {
   "display_name": "Python 3 (ipykernel)",
   "language": "python",
   "name": "python3"
  },
  "language_info": {
   "codemirror_mode": {
    "name": "ipython",
    "version": 3
   },
   "file_extension": ".py",
   "mimetype": "text/x-python",
   "name": "python",
   "nbconvert_exporter": "python",
   "pygments_lexer": "ipython3",
   "version": "3.9.7"
  }
 },
 "nbformat": 4,
 "nbformat_minor": 5
}
