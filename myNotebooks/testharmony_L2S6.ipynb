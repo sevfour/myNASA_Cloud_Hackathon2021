{
 "cells": [
  {
   "cell_type": "raw",
   "id": "215abf05-3cbc-4981-bbaf-b9b24b71a7a4",
   "metadata": {},
   "source": [
    "Look for L2 data files for specific dates and region using CMR, read and stack the files using s3fs, select a region of interest"
   ]
  },
  {
   "cell_type": "code",
   "execution_count": 1,
   "id": "6e101766-8191-4e7b-901d-82b9d0116712",
   "metadata": {},
   "outputs": [],
   "source": [
    "import requests\n",
    "from pprint import pprint\n",
    "import xarray as xr\n",
    "import numpy\n",
    "import matplotlib.pyplot as plt\n",
    "import cartopy.crs as ccrs\n",
    "import cartopy\n",
    "from harmony import BBox, Client, Collection, Request, LinkType\n",
    "from harmony.config import Environment\n",
    "import datetime as dt\n",
    "\n",
    "#to make big figures\n",
    "plt.rcParams['figure.figsize'] = 12, 6"
   ]
  },
  {
   "cell_type": "code",
   "execution_count": 2,
   "id": "deedef9e-397d-4fcd-a921-28d2ba91f3d0",
   "metadata": {},
   "outputs": [],
   "source": [
    "#select L2 data \n",
    "dataset='podaac-ops-cumulus-protected/JASON_CS_S6A_L2_ALT_LR_RED_OST_NRT_F'\n",
    "shortname='JASON_CS_S6A_L2_ALT_LR_RED_OST_NRT_F'\n",
    "\n",
    "#timeframe of interest:\n",
    "start_date = \"2015-08-01\"\n",
    "end_date   = \"2015-10-31\"\n",
    "\n",
    "#region of interest:\n",
    "lonmin = -170.0\n",
    "latmin = 65.0\n",
    "lonmax = -120.0\n",
    "latmax = 80.0"
   ]
  },
  {
   "cell_type": "code",
   "execution_count": 3,
   "id": "f4e7e81f-df6e-490a-b265-5591f91f005f",
   "metadata": {},
   "outputs": [],
   "source": [
    "CMR_OPS = 'https://cmr.earthdata.nasa.gov/search'\n",
    "collection_url = f'{CMR_OPS}/{\"collections\"}'"
   ]
  },
  {
   "cell_type": "code",
   "execution_count": 4,
   "id": "fd285326-405b-4923-be75-1a3e2be3fa74",
   "metadata": {},
   "outputs": [
    {
     "name": "stdout",
     "output_type": "stream",
     "text": [
      "NASA/JPL/PODAAC Sentinel-6A MF Jason-CS L2 P4 Altimeter Low Resolution (LR) NRT Reduced Ocean Surface Topography C1968980576-POCLOUD\n"
     ]
    }
   ],
   "source": [
    "provider = 'POCLOUD'\n",
    "response = requests.get(collection_url,\n",
    "                        params={\n",
    "                            'short_name': shortname,\n",
    "                            'cloud_hosted': 'True',\n",
    "                            'has_granules': 'True',\n",
    "                            'provider': provider,\n",
    "                            'page_size': 251,\n",
    "                        },\n",
    "                        headers={\n",
    "                            'Accept': 'application/json'\n",
    "                        }\n",
    "                       )\n",
    "collections = response.json()['feed']['entry']\n",
    "for collection in collections:\n",
    "    print(f'{collection[\"archive_center\"]} {collection[\"dataset_id\"]} {collection[\"id\"]}')"
   ]
  },
  {
   "cell_type": "code",
   "execution_count": 5,
   "id": "5ea43f1a-8b58-407c-9c80-5f88435aa263",
   "metadata": {},
   "outputs": [],
   "source": [
    "concept_id='C1968980576-POCLOUD'\n",
    "response = requests.get(collection_url, \n",
    "                        params={\n",
    "                            'concept_id': concept_id,\n",
    "                            },\n",
    "                        headers={\n",
    "                            'Accept': 'application/json'\n",
    "                            }\n",
    "                       )\n",
    "response = response.json()"
   ]
  },
  {
   "cell_type": "code",
   "execution_count": 6,
   "id": "9a8ad731-d7e9-4224-a7f5-cd35250faf93",
   "metadata": {},
   "outputs": [
    {
     "name": "stdout",
     "output_type": "stream",
     "text": [
      "['S2004184019-POCLOUD', 'S1962070864-POCLOUD']\n"
     ]
    }
   ],
   "source": [
    "services = response['feed']['entry'][0]['associations']['services']\n",
    "print(services)\n",
    "service_url = \"https://cmr.earthdata.nasa.gov/search/services\""
   ]
  },
  {
   "cell_type": "code",
   "execution_count": 7,
   "id": "a7a35089-908d-48f3-b19c-de3954e27042",
   "metadata": {},
   "outputs": [],
   "source": [
    "service_response = requests.get(service_url, \n",
    "                        params={\n",
    "                            'concept_id': services[0],\n",
    "                            },\n",
    "                        headers={\n",
    "                            'Accept': 'application/vnd.nasa.cmr.umm_results+json'\n",
    "                            }\n",
    "                       )\n",
    "service_response = service_response.json()"
   ]
  },
  {
   "cell_type": "code",
   "execution_count": 8,
   "id": "079b672e-00f1-4e04-8b99-9ba1ce59488e",
   "metadata": {},
   "outputs": [
    {
     "name": "stdout",
     "output_type": "stream",
     "text": [
      "['/data_01/mean_dynamic_topography_acc',\n",
      " '/data_01/ku/swh_ocean_rms',\n",
      " '/data_01/rad_tb_238',\n",
      " '/data_01/rad_tmb_340',\n",
      " '/data_01/off_nadir_roll_angle_pf',\n",
      " '/data_01/c/iono_cor_gim',\n",
      " '/data_01/ku/rad_atm_cor_sig0_qual',\n",
      " '/data_01/ku/range_ocean_mle3_numval',\n",
      " '/data_01/ku/sig0_ocean_mle3_rms',\n",
      " '/data_01/c/range_ocean',\n",
      " '/data_01/c/index_first_20hz_measurement',\n",
      " '/data_01/rad_rain_flag',\n",
      " '/data_01/wind_speed_mod_u',\n",
      " '/data_01/ku/net_instr_cor_sig0_ocean',\n",
      " '/data_01/ku/index_first_20hz_measurement',\n",
      " '/data_01/off_nadir_pitch_angle_pf',\n",
      " '/data_01/ku/net_instr_cor_range_ocean_mle3',\n",
      " '/data_01/c/swh_ocean_numval',\n",
      " '/data_01/ku/range_ocean_numval',\n",
      " '/data_01/rad_land_frac_187',\n",
      " '/data_01/geoid',\n",
      " '/data_01/internal_tide',\n",
      " '/data_01/c/sig0_ocean_qual',\n",
      " '/data_01/c/model_instr_cor_range_ocean',\n",
      " '/data_01/ku/sig0_ocean_qual',\n",
      " '/data_01/mean_sea_surface_sol1_qual',\n",
      " '/data_01/c/net_instr_cor_range_ocean',\n",
      " '/data_01/ku/net_instr_cor_range_ocean',\n",
      " '/data_01/iono_cor_alt_mle3',\n",
      " '/data_01/ku/range_cor_doppler',\n",
      " '/data_01/rad_distance_to_land',\n",
      " '/data_01/pole_tide',\n",
      " '/data_01/wind_speed_alt',\n",
      " '/data_01/c/swh_ocean_rms',\n",
      " '/data_01/delta_ellipsoid_tp_wgs84',\n",
      " '/data_01/altitude',\n",
      " '/data_01/ku/numtotal_20hz_measurement',\n",
      " '/data_01/ku/range_ocean_mle3_rms',\n",
      " '/data_01/rad_surface_type_flag',\n",
      " '/data_01/ku/range_ocean_mle3',\n",
      " '/data_01/c/atm_cor_sig0',\n",
      " '/data_01/mean_dynamic_topography_qual',\n",
      " '/data_01/off_nadir_yaw_angle_pf',\n",
      " '/data_01/ku/sig0_ocean_mle3',\n",
      " '/data_01/depth_or_elevation',\n",
      " '/data_01/orbit_type_flag',\n",
      " '/data_01/ku/range_ocean',\n",
      " '/data_01/ku/sig0_ocean_numval',\n",
      " '/data_01/mean_sea_surface_sol1',\n",
      " '/data_01/ku/sea_state_bias',\n",
      " '/data_01/ku/swh_ocean_numval',\n",
      " '/data_01/climato_use_flag',\n",
      " '/data_01/c/sea_state_bias',\n",
      " '/data_01/c/net_instr_cor_sig0_ocean',\n",
      " '/data_01/altitude_rate_mean_sea_surface',\n",
      " '/data_01/iono_cor_alt_filtered_mle3',\n",
      " '/data_01/ku/swh_ocean_mle3_rms',\n",
      " '/data_01/mean_sea_surface_sol2',\n",
      " '/data_01/c/rad_atm_cor_sig0_qual',\n",
      " '/data_01/c/swh_ocean',\n",
      " '/data_01/ku/off_nadir_angle_wf_ocean',\n",
      " '/data_01/rad_tmb_238',\n",
      " '/data_01/c/model_instr_cor_sig0_ocean',\n",
      " '/data_01/latitude',\n",
      " '/data_01/c/range_ocean_qual',\n",
      " '/data_01/ku/model_instr_cor_sig0_ocean_mle3',\n",
      " '/data_01/c/sig0_ocean',\n",
      " '/data_01/ku/net_instr_cor_swh_ocean',\n",
      " '/data_01/mean_sea_surface_sol2_acc',\n",
      " '/data_01/model_dry_tropo_cor_measurement_altitude',\n",
      " '/data_01/rad_wet_tropo_cor_qual',\n",
      " '/data_01/ku/sig0_ocean_rms',\n",
      " '/data_01/ku/model_instr_cor_sig0_ocean',\n",
      " '/data_01/mean_dynamic_topography',\n",
      " '/data_01/rad_cloud_liquid_water',\n",
      " '/data_01/mean_sea_surface_sol1_acc',\n",
      " '/data_01/rad_tb_340_qual',\n",
      " '/data_01/c/swh_ocean_qual',\n",
      " '/data_01/ku/sig0_ocean',\n",
      " '/data_01/iono_cor_alt',\n",
      " '/data_01/ku/ssha_mle3',\n",
      " '/data_01/altitude_rate',\n",
      " '/data_01/ku/ocean_geo_corrections_mle3',\n",
      " '/data_01/dac',\n",
      " '/data_01/ku/ssha',\n",
      " '/data_01/ku/off_nadir_angle_wf_ocean_rms',\n",
      " '/data_01/rad_water_vapor',\n",
      " '/data_01/pass_direction_flag',\n",
      " '/data_01/ku/model_instr_cor_range_ocean',\n",
      " '/data_01/rad_land_frac_238',\n",
      " '/data_01/longitude',\n",
      " '/data_01/ku/range_ocean_qual',\n",
      " '/data_01/c/range_cor_doppler',\n",
      " '/data_01/ku/iono_cor_gim',\n",
      " '/data_01/wind_speed_alt_mle3',\n",
      " '/data_01/rad_tb_187',\n",
      " '/data_01/rad_tb_238_qual',\n",
      " '/data_01/ku/off_nadir_angle_wf_ocean_qual',\n",
      " '/data_01/c/sig0_ocean_numval',\n",
      " '/data_01/c/sig0_ocean_rms',\n",
      " '/data_01/rad_sea_ice_flag',\n",
      " '/data_01/ocean_tide_sol1_qual',\n",
      " '/data_01/c/numtotal_20hz_measurement',\n",
      " '/data_01/rain_attenuation',\n",
      " '/data_01/ku/model_instr_cor_swh_ocean_mle3',\n",
      " '/data_01/ku/swh_ocean_qual',\n",
      " '/data_01/mean_sea_surface_sol2_qual',\n",
      " '/data_01/distance_to_coast',\n",
      " '/data_01/ocean_tide_non_eq',\n",
      " '/data_01/iono_cor_alt_filtered',\n",
      " '/data_01/load_tide_sol1',\n",
      " '/data_01/rad_tb_340',\n",
      " '/data_01/time',\n",
      " '/data_01/model_dry_tropo_cor_zero_altitude',\n",
      " '/data_01/rad_tmb_187',\n",
      " '/data_01/solid_earth_tide',\n",
      " '/data_01/rad_wind_speed',\n",
      " '/data_01/ocean_tide_sol2',\n",
      " '/data_01/ku/net_instr_cor_swh_ocean_mle3',\n",
      " '/data_01/rad_tmb_340_qual',\n",
      " '/data_01/ku/ocean_geo_corrections',\n",
      " '/data_01/model_wet_tropo_cor_measurement_altitude',\n",
      " '/data_01/time_tai',\n",
      " '/data_01/l2_record_counter',\n",
      " '/data_01/rad_cloud_liquid_water_qual',\n",
      " '/data_01/c/range_ocean_numval',\n",
      " '/data_01/ku/swh_ocean_mle3_numval',\n",
      " '/data_01/ku/swh_ocean_mle3',\n",
      " '/data_01/ku/model_instr_cor_off_nadir_angle_wf_ocean',\n",
      " '/data_01/ku/range_ocean_rms',\n",
      " '/data_01/ku/sig0_ocean_mle3_qual',\n",
      " '/data_01/rad_tb_187_qual',\n",
      " '/data_01/manoeuvre_flag',\n",
      " '/data_01/rad_tmb_238_qual',\n",
      " '/data_01/total_electron_content',\n",
      " '/data_01/wind_speed_mod_v',\n",
      " '/data_01/rad_wind_speed_qual',\n",
      " '/data_01/rad_state_oper_flag',\n",
      " '/data_01/ocean_tide_eq',\n",
      " '/data_01/model_wet_tropo_cor_zero_altitude',\n",
      " '/data_01/c/net_instr_cor_swh_ocean',\n",
      " '/data_01/ku/atm_cor_sig0',\n",
      " '/data_01/rad_wet_tropo_cor',\n",
      " '/data_01/angle_of_approach_to_coast',\n",
      " '/data_01/ku/net_instr_cor_sig0_ocean_mle3',\n",
      " '/data_01/surface_classification_flag',\n",
      " '/data_01/ku/range_ocean_mle3_qual',\n",
      " '/data_01/ku/model_instr_cor_range_ocean_mle3',\n",
      " '/data_01/rad_land_frac_340',\n",
      " '/data_01/ku/swh_ocean',\n",
      " '/data_01/ocean_tide_sol2_qual',\n",
      " '/data_01/rain_flag',\n",
      " '/data_01/ku/net_instr_cor_off_nadir_angle_wf_ocean',\n",
      " '/data_01/ku/swh_ocean_mle3_qual',\n",
      " '/data_01/ku/sea_state_bias_mle3',\n",
      " '/data_01/inv_bar_cor',\n",
      " '/data_01/load_tide_sol2',\n",
      " '/data_01/ku/model_instr_cor_swh_ocean',\n",
      " '/data_01/ku/off_nadir_angle_wf_ocean_numval',\n",
      " '/data_01/meteo_map_availability_flag',\n",
      " '/data_01/ocean_tide_sol1',\n",
      " '/data_01/c/range_ocean_rms',\n",
      " '/data_01/rad_water_vapor_qual',\n",
      " '/data_01/rad_tmb_187_qual',\n",
      " '/data_01/ku/sig0_ocean_mle3_numval',\n",
      " '/data_01/c/model_instr_cor_swh_ocean']\n"
     ]
    }
   ],
   "source": [
    "variables = response['feed']['entry'][0]['associations']['variables']\n",
    "var_url = \"https://cmr.earthdata.nasa.gov/search/variables\"\n",
    "var_list = []\n",
    "for i in range(len(variables)):\n",
    "    var_response = requests.get(var_url, \n",
    "                            params={\n",
    "                                'concept_id': variables[i],\n",
    "                                },\n",
    "                            headers={\n",
    "                                'Accept': 'application/vnd.nasa.cmr.umm_results+json'\n",
    "                                }\n",
    "                           )\n",
    "    var_response = var_response.json()\n",
    "    var_list.append(var_response['items'][0]['umm']['Name'])\n",
    "pprint(var_list)"
   ]
  },
  {
   "cell_type": "code",
   "execution_count": 9,
   "id": "b765ec08-8a03-43ac-98bb-ca6e8d85751c",
   "metadata": {},
   "outputs": [],
   "source": [
    "harmony_client = Client()"
   ]
  },
  {
   "cell_type": "code",
   "execution_count": 10,
   "id": "bee39ab1-b433-4be7-8076-26d62cc4b01d",
   "metadata": {},
   "outputs": [
    {
     "data": {
      "text/plain": [
       "True"
      ]
     },
     "execution_count": 10,
     "metadata": {},
     "output_type": "execute_result"
    }
   ],
   "source": [
    "request = Request(\n",
    "    collection=Collection(id=shortname),\n",
    "    spatial=BBox(lonmin,latmin,lonmax,latmax),\n",
    "    temporal={\n",
    "        'start': dt.datetime(2021, 8, 1),\n",
    "        'stop': dt.datetime(2021, 10, 31),\n",
    "    },\n",
    ")\n",
    "request.is_valid()"
   ]
  },
  {
   "cell_type": "code",
   "execution_count": 11,
   "id": "56f1a6c5-4480-4797-a3f7-b469aefa116b",
   "metadata": {},
   "outputs": [
    {
     "data": {
      "text/plain": [
       "{'status': 'running',\n",
       " 'message': 'CMR query identified 276 granules, but the request has been limited to process only the first 200 granules because of system constraints.',\n",
       " 'progress': 0,\n",
       " 'created_at': datetime.datetime(2021, 11, 19, 18, 20, 35, 951000, tzinfo=tzlocal()),\n",
       " 'updated_at': datetime.datetime(2021, 11, 19, 18, 20, 35, 951000, tzinfo=tzlocal()),\n",
       " 'request': 'https://harmony.earthdata.nasa.gov/JASON_CS_S6A_L2_ALT_LR_RED_OST_NRT_F/ogc-api-coverages/1.0.0/collections/all/coverage/rangeset?forceAsync=true&subset=lat(65.0%3A80.0)&subset=lon(-170.0%3A-120.0)&subset=time(%222021-08-01T00%3A00%3A00%22%3A%222021-10-31T00%3A00%3A00%22)',\n",
       " 'num_input_granules': 200}"
      ]
     },
     "execution_count": 11,
     "metadata": {},
     "output_type": "execute_result"
    }
   ],
   "source": [
    "job_id = harmony_client.submit(request)\n",
    "job_id\n",
    "harmony_client.status(job_id)"
   ]
  },
  {
   "cell_type": "code",
   "execution_count": 12,
   "id": "0c904d8f-79af-49e8-a9af-9fddd6c897ef",
   "metadata": {},
   "outputs": [
    {
     "name": "stderr",
     "output_type": "stream",
     "text": [
      " [ Processing:   0% ] |                                                   | [/]\n"
     ]
    },
    {
     "ename": "ProcessingFailedException",
     "evalue": "Failed",
     "output_type": "error",
     "traceback": [
      "\u001b[0;31m---------------------------------------------------------------------------\u001b[0m",
      "\u001b[0;31mProcessingFailedException\u001b[0m                 Traceback (most recent call last)",
      "\u001b[0;32m/tmp/ipykernel_2471/4215825715.py\u001b[0m in \u001b[0;36m<module>\u001b[0;34m\u001b[0m\n\u001b[0;32m----> 1\u001b[0;31m \u001b[0mharmony_client\u001b[0m\u001b[0;34m.\u001b[0m\u001b[0mwait_for_processing\u001b[0m\u001b[0;34m(\u001b[0m\u001b[0mjob_id\u001b[0m\u001b[0;34m,\u001b[0m \u001b[0mshow_progress\u001b[0m\u001b[0;34m=\u001b[0m\u001b[0;32mTrue\u001b[0m\u001b[0;34m)\u001b[0m\u001b[0;34m\u001b[0m\u001b[0;34m\u001b[0m\u001b[0m\n\u001b[0m",
      "\u001b[0;32m/srv/conda/envs/notebook/lib/python3.9/site-packages/harmony/harmony.py\u001b[0m in \u001b[0;36mwait_for_processing\u001b[0;34m(self, job_id, show_progress)\u001b[0m\n\u001b[1;32m    642\u001b[0m                     \u001b[0mprogress\u001b[0m\u001b[0;34m,\u001b[0m \u001b[0mstatus\u001b[0m\u001b[0;34m,\u001b[0m \u001b[0mmessage\u001b[0m \u001b[0;34m=\u001b[0m \u001b[0mself\u001b[0m\u001b[0;34m.\u001b[0m\u001b[0mprogress\u001b[0m\u001b[0;34m(\u001b[0m\u001b[0mjob_id\u001b[0m\u001b[0;34m)\u001b[0m\u001b[0;34m\u001b[0m\u001b[0;34m\u001b[0m\u001b[0m\n\u001b[1;32m    643\u001b[0m                     \u001b[0;32mif\u001b[0m \u001b[0mstatus\u001b[0m \u001b[0;34m==\u001b[0m \u001b[0;34m'failed'\u001b[0m\u001b[0;34m:\u001b[0m\u001b[0;34m\u001b[0m\u001b[0;34m\u001b[0m\u001b[0m\n\u001b[0;32m--> 644\u001b[0;31m                         \u001b[0;32mraise\u001b[0m \u001b[0mProcessingFailedException\u001b[0m\u001b[0;34m(\u001b[0m\u001b[0mjob_id\u001b[0m\u001b[0;34m,\u001b[0m \u001b[0mmessage\u001b[0m\u001b[0;34m)\u001b[0m\u001b[0;34m\u001b[0m\u001b[0;34m\u001b[0m\u001b[0m\n\u001b[0m\u001b[1;32m    645\u001b[0m                     \u001b[0;32mif\u001b[0m \u001b[0mstatus\u001b[0m \u001b[0;34m==\u001b[0m \u001b[0;34m'canceled'\u001b[0m\u001b[0;34m:\u001b[0m\u001b[0;34m\u001b[0m\u001b[0;34m\u001b[0m\u001b[0m\n\u001b[1;32m    646\u001b[0m                         \u001b[0mprint\u001b[0m\u001b[0;34m(\u001b[0m\u001b[0;34m'Job has been canceled.'\u001b[0m\u001b[0;34m)\u001b[0m\u001b[0;34m\u001b[0m\u001b[0;34m\u001b[0m\u001b[0m\n",
      "\u001b[0;31mProcessingFailedException\u001b[0m: Failed"
     ]
    }
   ],
   "source": [
    "harmony_client.wait_for_processing(job_id, show_progress=True)"
   ]
  },
  {
   "cell_type": "code",
   "execution_count": null,
   "id": "e75488aa-a1e9-4c0a-9da9-d0950b2ce53f",
   "metadata": {},
   "outputs": [],
   "source": [
    "data = harmony_client.result_json(job_id)\n",
    "pprint(data)"
   ]
  },
  {
   "cell_type": "code",
   "execution_count": null,
   "id": "d287f376-a0bc-40b8-ac3b-b88464322283",
   "metadata": {},
   "outputs": [],
   "source": [
    "results = harmony_client.result_urls(job_id, link_type=LinkType.s3)\n",
    "urls = list(results)\n",
    "pprint(urls)"
   ]
  }
 ],
 "metadata": {
  "kernelspec": {
   "display_name": "Python 3 (ipykernel)",
   "language": "python",
   "name": "python3"
  },
  "language_info": {
   "codemirror_mode": {
    "name": "ipython",
    "version": 3
   },
   "file_extension": ".py",
   "mimetype": "text/x-python",
   "name": "python",
   "nbconvert_exporter": "python",
   "pygments_lexer": "ipython3",
   "version": "3.9.7"
  }
 },
 "nbformat": 4,
 "nbformat_minor": 5
}
